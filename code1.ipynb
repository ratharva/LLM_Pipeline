{
 "cells": [
  {
   "cell_type": "code",
   "execution_count": 1,
   "metadata": {},
   "outputs": [
    {
     "name": "stderr",
     "output_type": "stream",
     "text": [
      "/home/atharva/anaconda3/envs/pytorchEnv/lib/python3.11/site-packages/tqdm/auto.py:21: TqdmWarning: IProgress not found. Please update jupyter and ipywidgets. See https://ipywidgets.readthedocs.io/en/stable/user_install.html\n",
      "  from .autonotebook import tqdm as notebook_tqdm\n"
     ]
    }
   ],
   "source": [
    "from docx import Document\n",
    "from sentence_transformers import SentenceTransformer\n",
    "import numpy as np\n",
    "import faiss"
   ]
  },
  {
   "cell_type": "code",
   "execution_count": 2,
   "metadata": {},
   "outputs": [],
   "source": [
    "# def read_word_file(file_path):\n",
    "#     doc = Document(file_path)\n",
    "#     full_text = []\n",
    "#     for para in doc.paragraphs:\n",
    "#         full_text.append(para.text)\n",
    "#     return '\\n'.join(full_text)\n",
    "\n",
    "# def read_text_file(file_path):\n",
    "#     with open(file_path, 'r', encoding='utf-8') as file:\n",
    "#         text = file.read()\n",
    "#     return text\n",
    "\n",
    "# document_path = '/home/atharva/Atharva/webapp/documentRetrieval/data/resetPassword.txt'\n",
    "# document_text = read_text_file(document_path)"
   ]
  },
  {
   "cell_type": "code",
   "execution_count": 3,
   "metadata": {},
   "outputs": [],
   "source": [
    "document_text = \"\"\"Title: How to Reset Your Password\n",
    "\n",
    "If you have forgotten your password, you can reset it by following these steps:\n",
    "\n",
    "Go to the login page.\n",
    "Click on the \"Forgot Password\" link.\n",
    "Enter your registered email address.\n",
    "Check your email for a password reset link.\n",
    "Click the link in the email and follow the instructions to create a new password.\n",
    "If you do not receive the password reset email within a few minutes, please check your spam folder. If the email is not there, you can request a new password reset email by repeating the steps above.\n",
    "\n",
    "For further assistance, contact our support team at support@example.com.\"\"\"\n",
    "\n",
    "lines = [line.strip() for line in document_text.split('\\n') if line.strip()]\n",
    "\n"
   ]
  },
  {
   "cell_type": "code",
   "execution_count": 4,
   "metadata": {},
   "outputs": [
    {
     "name": "stderr",
     "output_type": "stream",
     "text": [
      "/home/atharva/anaconda3/envs/pytorchEnv/lib/python3.11/site-packages/huggingface_hub/file_download.py:1132: FutureWarning: `resume_download` is deprecated and will be removed in version 1.0.0. Downloads always resume when possible. If you want to force a new download, use `force_download=True`.\n",
      "  warnings.warn(\n"
     ]
    }
   ],
   "source": [
    "# Load the model\n",
    "model = SentenceTransformer('all-MiniLM-L6-v2')\n",
    "\n",
    "# Generate embeddings for the document\n",
    "embeddings = model.encode([lines])"
   ]
  },
  {
   "cell_type": "code",
   "execution_count": 5,
   "metadata": {},
   "outputs": [],
   "source": [
    "# Initialize FAISS index\n",
    "d = embeddings.shape[1]  # dimension of embeddings\n",
    "index = faiss.IndexFlatL2(d)\n",
    "\n",
    "# Add embeddings to the index\n",
    "index.add(np.array(embeddings, dtype=np.float32))\n",
    "document_mapping = {i: line for i, line in enumerate(lines)}\n",
    "# Save the index to a file (optional)\n",
    "faiss.write_index(index, 'document_embeddings.index')"
   ]
  },
  {
   "cell_type": "code",
   "execution_count": 7,
   "metadata": {},
   "outputs": [
    {
     "name": "stdout",
     "output_type": "stream",
     "text": [
      "Nearest neighbor ID: Title: How to Reset Your Password, Distance: 1.6131680011749268\n"
     ]
    }
   ],
   "source": [
    "query = \"email\"\n",
    "query_embedding = model.encode([query])\n",
    "\n",
    "# Search the FAISS index\n",
    "D, I = index.search(np.array(query_embedding, dtype=np.float32), k=1)  # k is the number of nearest neighbors to retrieve\n",
    "nearest_neighbor_id = I[0][0]\n",
    "nearest_neighbor_text = document_mapping[nearest_neighbor_id]\n",
    "# Get the result\n",
    "print(f\"Nearest neighbor ID: {nearest_neighbor_text}, Distance: {D[0][0]}\")"
   ]
  },
  {
   "cell_type": "code",
   "execution_count": null,
   "metadata": {},
   "outputs": [],
   "source": []
  }
 ],
 "metadata": {
  "kernelspec": {
   "display_name": "pytorchEnv",
   "language": "python",
   "name": "python3"
  },
  "language_info": {
   "codemirror_mode": {
    "name": "ipython",
    "version": 3
   },
   "file_extension": ".py",
   "mimetype": "text/x-python",
   "name": "python",
   "nbconvert_exporter": "python",
   "pygments_lexer": "ipython3",
   "version": "3.11.0"
  }
 },
 "nbformat": 4,
 "nbformat_minor": 2
}
